{
 "cells": [
  {
   "cell_type": "code",
   "execution_count": 13,
   "metadata": {},
   "outputs": [],
   "source": [
    "import cv2\n",
    "import numpy as np\n",
    "import pandas as pd\n",
    "import os"
   ]
  },
  {
   "cell_type": "code",
   "execution_count": 5,
   "metadata": {},
   "outputs": [
    {
     "data": {
      "text/plain": [
       "7.5"
      ]
     },
     "execution_count": 5,
     "metadata": {},
     "output_type": "execute_result"
    }
   ],
   "source": [
    "np.median(np.arange(16).reshape(4,4))"
   ]
  },
  {
   "cell_type": "code",
   "execution_count": 14,
   "metadata": {},
   "outputs": [
    {
     "data": {
      "text/plain": [
       "'d:\\\\Nauka\\\\Polibuda\\\\Inżynierka\\\\Eye-Diesese-ML'"
      ]
     },
     "execution_count": 14,
     "metadata": {},
     "output_type": "execute_result"
    }
   ],
   "source": [
    "import os\n",
    "os.path.abspath(\"\")"
   ]
  },
  {
   "cell_type": "code",
   "execution_count": 5,
   "metadata": {},
   "outputs": [
    {
     "data": {
      "text/plain": [
       "['sls', 'lokok', '\\\\p']"
      ]
     },
     "execution_count": 5,
     "metadata": {},
     "output_type": "execute_result"
    }
   ],
   "source": [
    "'sls/lokok/\\p'.split('/')"
   ]
  },
  {
   "cell_type": "code",
   "execution_count": 7,
   "metadata": {},
   "outputs": [],
   "source": [
    "def get_edges_stats(img,img_name):\n",
    "    \"\"\"returns stats (0 normalized count,endge picels mean and median)\n",
    "\n",
    "    Args:\n",
    "        img (np.array): has to be grayscaled 2 dim image\n",
    "        img_name (str): name in returned dictionary\n",
    "    \"\"\"\n",
    "    \n",
    "    img_shape =img.shape\n",
    "    edges = np.array([img[[0,img_shape[0]-1],:], img[:,[0,img_shape[1]-1]].T]).ravel()\n",
    "    edges_count = pd.Series(edges).value_counts(normalize=True)\n",
    "    \n",
    "    final_ret = {}\n",
    "    if 0 not in edges_count.index:\n",
    "        final_ret[img_name+'_edge_0_norm_count'] = 0\n",
    "    else:\n",
    "        final_ret[img_name +'_edge_0_norm_count'] =  edges_count.loc[0]\n",
    "        \n",
    "    final_ret[img_name+'_edge_median'] = np.median(edges)\n",
    "    final_ret[img_name+'_edge_median'] = edges.mean()\n",
    "    \n",
    "    return final_ret\n",
    "    \n",
    "    \n",
    "    \n",
    "    "
   ]
  },
  {
   "cell_type": "code",
   "execution_count": 12,
   "metadata": {},
   "outputs": [],
   "source": [
    "def preprocess_one_img(path:str,save_path:str):\n",
    "    filename = path.split('/')\n",
    "    image = cv2.imread(path)\n",
    "    gray = cv2.cvtColor(image, cv2.COLOR_BGR2GRAY)\n",
    "    blur = cv2.GaussianBlur(gray, (5,5), 0)\n",
    "    thresh = cv2.threshold(blur, 0, 255, cv2.THRESH_BINARY + cv2.THRESH_OTSU)[1]\n",
    "\n",
    "    contours,hierarchy = cv2.findContours(thresh,cv2.RETR_EXTERNAL,cv2.CHAIN_APPROX_SIMPLE)\n",
    "    cnts = sorted(contours, key=cv2.contourArea, reverse=True)\n",
    "    cnt = cnts[0]\n",
    "    x,y,w,h = cv2.boundingRect(cnt)\n",
    "    crop = image[y:y+h,x:x+w]\n",
    "    f_savepath = save_path + '/'+filename \n",
    "    \n",
    "    \n",
    "    cv2.imwrite(f_savepath,crop)\n",
    "    \n",
    "    return_dict ={'save_path':f_savepath}\n",
    "    \n",
    "    return_dict.update(get_edges_stats(gray,'org'))\n",
    "    \n",
    "    crop_gray = cv2.cvtColor(crop, cv2.COLOR_BGR2GRAY)\n",
    "    return_dict.update(get_edges_stats(crop_gray,'crop'))\n",
    "    \n",
    "    return return_dict"
   ]
  },
  {
   "cell_type": "code",
   "execution_count": null,
   "metadata": {},
   "outputs": [],
   "source": [
    "dirs_i_want = []\n",
    "for root, dirs, files in os.walk(\"./data/\"):\n",
    "    if any(file.endswith('png') for file in files:\n",
    "        dirs_i_want.append(root)"
   ]
  },
  {
   "cell_type": "code",
   "execution_count": null,
   "metadata": {},
   "outputs": [],
   "source": [
    "\"./data\""
   ]
  }
 ],
 "metadata": {
  "kernelspec": {
   "display_name": "inz",
   "language": "python",
   "name": "python3"
  },
  "language_info": {
   "codemirror_mode": {
    "name": "ipython",
    "version": 3
   },
   "file_extension": ".py",
   "mimetype": "text/x-python",
   "name": "python",
   "nbconvert_exporter": "python",
   "pygments_lexer": "ipython3",
   "version": "3.10.11"
  }
 },
 "nbformat": 4,
 "nbformat_minor": 2
}
